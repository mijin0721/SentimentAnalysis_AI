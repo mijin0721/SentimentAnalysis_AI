{
  "nbformat": 4,
  "nbformat_minor": 0,
  "metadata": {
    "colab": {
      "provenance": [],
      "mount_file_id": "1bwOBI_o-DL6rnHuOnkmiGKah1UgPXiRf",
      "authorship_tag": "ABX9TyNOjr8nU6UPqbQndu7Zx7qU",
      "include_colab_link": true
    },
    "kernelspec": {
      "name": "python3",
      "display_name": "Python 3"
    },
    "language_info": {
      "name": "python"
    },
    "accelerator": "GPU",
    "gpuClass": "standard"
  },
  "cells": [
    {
      "cell_type": "markdown",
      "metadata": {
        "id": "view-in-github",
        "colab_type": "text"
      },
      "source": [
        "<a href=\"https://colab.research.google.com/github/mijin0721/Sentiment_analysis_AI/blob/main/%EA%B2%B0%EA%B3%BC%EB%8F%84%EC%B6%9C_No1.ipynb\" target=\"_parent\"><img src=\"https://colab.research.google.com/assets/colab-badge.svg\" alt=\"Open In Colab\"/></a>"
      ]
    },
    {
      "cell_type": "code",
      "source": [
        "!pip install mxnet\n",
        "!pip install gluonnlp pandas tqdm\n",
        "!pip install sentencepiece\n",
        "!pip install transformers==3.0.2\n",
        "!pip install torch"
      ],
      "metadata": {
        "colab": {
          "base_uri": "https://localhost:8080/"
        },
        "id": "mtctxe0zHWIu",
        "outputId": "c7f7b6b9-756e-4dc8-bc96-9b80079be97b"
      },
      "execution_count": null,
      "outputs": [
        {
          "output_type": "stream",
          "name": "stdout",
          "text": [
            "Looking in indexes: https://pypi.org/simple, https://us-python.pkg.dev/colab-wheels/public/simple/\n",
            "Requirement already satisfied: mxnet in /usr/local/lib/python3.8/dist-packages (1.7.0.post2)\n",
            "Requirement already satisfied: graphviz<0.9.0,>=0.8.1 in /usr/local/lib/python3.8/dist-packages (from mxnet) (0.8.4)\n",
            "Requirement already satisfied: numpy<2.0.0,>1.16.0 in /usr/local/lib/python3.8/dist-packages (from mxnet) (1.21.6)\n",
            "Requirement already satisfied: requests<3,>=2.20.0 in /usr/local/lib/python3.8/dist-packages (from mxnet) (2.23.0)\n",
            "Requirement already satisfied: chardet<4,>=3.0.2 in /usr/local/lib/python3.8/dist-packages (from requests<3,>=2.20.0->mxnet) (3.0.4)\n",
            "Requirement already satisfied: idna<3,>=2.5 in /usr/local/lib/python3.8/dist-packages (from requests<3,>=2.20.0->mxnet) (2.10)\n",
            "Requirement already satisfied: urllib3!=1.25.0,!=1.25.1,<1.26,>=1.21.1 in /usr/local/lib/python3.8/dist-packages (from requests<3,>=2.20.0->mxnet) (1.24.3)\n",
            "Requirement already satisfied: certifi>=2017.4.17 in /usr/local/lib/python3.8/dist-packages (from requests<3,>=2.20.0->mxnet) (2022.9.24)\n",
            "Looking in indexes: https://pypi.org/simple, https://us-python.pkg.dev/colab-wheels/public/simple/\n",
            "Requirement already satisfied: gluonnlp in /usr/local/lib/python3.8/dist-packages (0.10.0)\n",
            "Requirement already satisfied: pandas in /usr/local/lib/python3.8/dist-packages (1.3.5)\n",
            "Requirement already satisfied: tqdm in /usr/local/lib/python3.8/dist-packages (4.64.1)\n",
            "Requirement already satisfied: numpy>=1.16.0 in /usr/local/lib/python3.8/dist-packages (from gluonnlp) (1.21.6)\n",
            "Requirement already satisfied: cython in /usr/local/lib/python3.8/dist-packages (from gluonnlp) (0.29.32)\n",
            "Requirement already satisfied: packaging in /usr/local/lib/python3.8/dist-packages (from gluonnlp) (21.3)\n",
            "Requirement already satisfied: python-dateutil>=2.7.3 in /usr/local/lib/python3.8/dist-packages (from pandas) (2.8.2)\n",
            "Requirement already satisfied: pytz>=2017.3 in /usr/local/lib/python3.8/dist-packages (from pandas) (2022.6)\n",
            "Requirement already satisfied: six>=1.5 in /usr/local/lib/python3.8/dist-packages (from python-dateutil>=2.7.3->pandas) (1.15.0)\n",
            "Requirement already satisfied: pyparsing!=3.0.5,>=2.0.2 in /usr/local/lib/python3.8/dist-packages (from packaging->gluonnlp) (3.0.9)\n",
            "Looking in indexes: https://pypi.org/simple, https://us-python.pkg.dev/colab-wheels/public/simple/\n",
            "Requirement already satisfied: sentencepiece in /usr/local/lib/python3.8/dist-packages (0.1.96)\n",
            "Looking in indexes: https://pypi.org/simple, https://us-python.pkg.dev/colab-wheels/public/simple/\n",
            "Requirement already satisfied: transformers==3.0.2 in /usr/local/lib/python3.8/dist-packages (3.0.2)\n",
            "Requirement already satisfied: tqdm>=4.27 in /usr/local/lib/python3.8/dist-packages (from transformers==3.0.2) (4.64.1)\n",
            "Requirement already satisfied: sacremoses in /usr/local/lib/python3.8/dist-packages (from transformers==3.0.2) (0.0.53)\n",
            "Requirement already satisfied: requests in /usr/local/lib/python3.8/dist-packages (from transformers==3.0.2) (2.23.0)\n",
            "Requirement already satisfied: packaging in /usr/local/lib/python3.8/dist-packages (from transformers==3.0.2) (21.3)\n",
            "Requirement already satisfied: tokenizers==0.8.1.rc1 in /usr/local/lib/python3.8/dist-packages (from transformers==3.0.2) (0.8.1rc1)\n",
            "Requirement already satisfied: regex!=2019.12.17 in /usr/local/lib/python3.8/dist-packages (from transformers==3.0.2) (2022.6.2)\n",
            "Requirement already satisfied: sentencepiece!=0.1.92 in /usr/local/lib/python3.8/dist-packages (from transformers==3.0.2) (0.1.96)\n",
            "Requirement already satisfied: numpy in /usr/local/lib/python3.8/dist-packages (from transformers==3.0.2) (1.21.6)\n",
            "Requirement already satisfied: filelock in /usr/local/lib/python3.8/dist-packages (from transformers==3.0.2) (3.8.0)\n",
            "Requirement already satisfied: pyparsing!=3.0.5,>=2.0.2 in /usr/local/lib/python3.8/dist-packages (from packaging->transformers==3.0.2) (3.0.9)\n",
            "Requirement already satisfied: urllib3!=1.25.0,!=1.25.1,<1.26,>=1.21.1 in /usr/local/lib/python3.8/dist-packages (from requests->transformers==3.0.2) (1.24.3)\n",
            "Requirement already satisfied: chardet<4,>=3.0.2 in /usr/local/lib/python3.8/dist-packages (from requests->transformers==3.0.2) (3.0.4)\n",
            "Requirement already satisfied: certifi>=2017.4.17 in /usr/local/lib/python3.8/dist-packages (from requests->transformers==3.0.2) (2022.9.24)\n",
            "Requirement already satisfied: idna<3,>=2.5 in /usr/local/lib/python3.8/dist-packages (from requests->transformers==3.0.2) (2.10)\n",
            "Requirement already satisfied: joblib in /usr/local/lib/python3.8/dist-packages (from sacremoses->transformers==3.0.2) (1.2.0)\n",
            "Requirement already satisfied: six in /usr/local/lib/python3.8/dist-packages (from sacremoses->transformers==3.0.2) (1.15.0)\n",
            "Requirement already satisfied: click in /usr/local/lib/python3.8/dist-packages (from sacremoses->transformers==3.0.2) (7.1.2)\n",
            "Looking in indexes: https://pypi.org/simple, https://us-python.pkg.dev/colab-wheels/public/simple/\n",
            "Requirement already satisfied: torch in /usr/local/lib/python3.8/dist-packages (1.10.1)\n",
            "Requirement already satisfied: typing-extensions in /usr/local/lib/python3.8/dist-packages (from torch) (4.1.1)\n"
          ]
        }
      ]
    },
    {
      "cell_type": "code",
      "source": [
        "!pip install 'git+https://github.com/SKTBrain/KoBERT.git#egg=kobert_tokenizer&subdirectory=kobert_hf'"
      ],
      "metadata": {
        "colab": {
          "base_uri": "https://localhost:8080/"
        },
        "id": "YasB862RIuf5",
        "outputId": "fe95877a-29c7-4928-a6f3-3b50ed58a85a"
      },
      "execution_count": null,
      "outputs": [
        {
          "output_type": "stream",
          "name": "stdout",
          "text": [
            "Looking in indexes: https://pypi.org/simple, https://us-python.pkg.dev/colab-wheels/public/simple/\n",
            "Collecting kobert_tokenizer\n",
            "  Cloning https://github.com/SKTBrain/KoBERT.git to /tmp/pip-install-is9a8lqw/kobert-tokenizer_9ce81d315f304c57a3bab1c4c169e0a6\n",
            "  Running command git clone -q https://github.com/SKTBrain/KoBERT.git /tmp/pip-install-is9a8lqw/kobert-tokenizer_9ce81d315f304c57a3bab1c4c169e0a6\n"
          ]
        }
      ]
    },
    {
      "cell_type": "code",
      "source": [
        "!pip install git+https://git@github.com/SKTBrain/KoBERT.git@master"
      ],
      "metadata": {
        "colab": {
          "base_uri": "https://localhost:8080/"
        },
        "id": "PebeBM4rHYRu",
        "outputId": "e9c72c75-4aae-4c09-bcfe-1061787d1d74"
      },
      "execution_count": null,
      "outputs": [
        {
          "output_type": "stream",
          "name": "stdout",
          "text": [
            "Looking in indexes: https://pypi.org/simple, https://us-python.pkg.dev/colab-wheels/public/simple/\n",
            "Collecting git+https://****@github.com/SKTBrain/KoBERT.git@master\n",
            "  Cloning https://****@github.com/SKTBrain/KoBERT.git (to revision master) to /tmp/pip-req-build-liyuk4vu\n",
            "  Running command git clone -q 'https://****@github.com/SKTBrain/KoBERT.git' /tmp/pip-req-build-liyuk4vu\n",
            "Requirement already satisfied: boto3<=1.15.18 in /usr/local/lib/python3.8/dist-packages (from kobert==0.2.3) (1.15.18)\n",
            "Requirement already satisfied: gluonnlp<=0.10.0,>=0.6.0 in /usr/local/lib/python3.8/dist-packages (from kobert==0.2.3) (0.10.0)\n",
            "Requirement already satisfied: mxnet<=1.7.0.post2,>=1.4.0 in /usr/local/lib/python3.8/dist-packages (from kobert==0.2.3) (1.7.0.post2)\n",
            "Requirement already satisfied: onnxruntime<=1.8.0,==1.8.0 in /usr/local/lib/python3.8/dist-packages (from kobert==0.2.3) (1.8.0)\n",
            "Requirement already satisfied: sentencepiece<=0.1.96,>=0.1.6 in /usr/local/lib/python3.8/dist-packages (from kobert==0.2.3) (0.1.96)\n",
            "Requirement already satisfied: torch<=1.10.1,>=1.7.0 in /usr/local/lib/python3.8/dist-packages (from kobert==0.2.3) (1.10.1)\n",
            "Collecting transformers<=4.8.1,>=4.8.1\n",
            "  Using cached transformers-4.8.1-py3-none-any.whl (2.5 MB)\n",
            "Requirement already satisfied: numpy>=1.16.6 in /usr/local/lib/python3.8/dist-packages (from onnxruntime<=1.8.0,==1.8.0->kobert==0.2.3) (1.21.6)\n",
            "Requirement already satisfied: flatbuffers in /usr/local/lib/python3.8/dist-packages (from onnxruntime<=1.8.0,==1.8.0->kobert==0.2.3) (1.12)\n",
            "Requirement already satisfied: protobuf in /usr/local/lib/python3.8/dist-packages (from onnxruntime<=1.8.0,==1.8.0->kobert==0.2.3) (3.19.6)\n",
            "Requirement already satisfied: jmespath<1.0.0,>=0.7.1 in /usr/local/lib/python3.8/dist-packages (from boto3<=1.15.18->kobert==0.2.3) (0.10.0)\n",
            "Requirement already satisfied: botocore<1.19.0,>=1.18.18 in /usr/local/lib/python3.8/dist-packages (from boto3<=1.15.18->kobert==0.2.3) (1.18.18)\n",
            "Requirement already satisfied: s3transfer<0.4.0,>=0.3.0 in /usr/local/lib/python3.8/dist-packages (from boto3<=1.15.18->kobert==0.2.3) (0.3.7)\n",
            "Requirement already satisfied: python-dateutil<3.0.0,>=2.1 in /usr/local/lib/python3.8/dist-packages (from botocore<1.19.0,>=1.18.18->boto3<=1.15.18->kobert==0.2.3) (2.8.2)\n",
            "Requirement already satisfied: urllib3<1.26,>=1.20 in /usr/local/lib/python3.8/dist-packages (from botocore<1.19.0,>=1.18.18->boto3<=1.15.18->kobert==0.2.3) (1.24.3)\n",
            "Requirement already satisfied: cython in /usr/local/lib/python3.8/dist-packages (from gluonnlp<=0.10.0,>=0.6.0->kobert==0.2.3) (0.29.32)\n",
            "Requirement already satisfied: packaging in /usr/local/lib/python3.8/dist-packages (from gluonnlp<=0.10.0,>=0.6.0->kobert==0.2.3) (21.3)\n",
            "Requirement already satisfied: requests<3,>=2.20.0 in /usr/local/lib/python3.8/dist-packages (from mxnet<=1.7.0.post2,>=1.4.0->kobert==0.2.3) (2.23.0)\n",
            "Requirement already satisfied: graphviz<0.9.0,>=0.8.1 in /usr/local/lib/python3.8/dist-packages (from mxnet<=1.7.0.post2,>=1.4.0->kobert==0.2.3) (0.8.4)\n",
            "Requirement already satisfied: six>=1.5 in /usr/local/lib/python3.8/dist-packages (from python-dateutil<3.0.0,>=2.1->botocore<1.19.0,>=1.18.18->boto3<=1.15.18->kobert==0.2.3) (1.15.0)\n",
            "Requirement already satisfied: chardet<4,>=3.0.2 in /usr/local/lib/python3.8/dist-packages (from requests<3,>=2.20.0->mxnet<=1.7.0.post2,>=1.4.0->kobert==0.2.3) (3.0.4)\n",
            "Requirement already satisfied: certifi>=2017.4.17 in /usr/local/lib/python3.8/dist-packages (from requests<3,>=2.20.0->mxnet<=1.7.0.post2,>=1.4.0->kobert==0.2.3) (2022.9.24)\n",
            "Requirement already satisfied: idna<3,>=2.5 in /usr/local/lib/python3.8/dist-packages (from requests<3,>=2.20.0->mxnet<=1.7.0.post2,>=1.4.0->kobert==0.2.3) (2.10)\n",
            "Requirement already satisfied: typing-extensions in /usr/local/lib/python3.8/dist-packages (from torch<=1.10.1,>=1.7.0->kobert==0.2.3) (4.1.1)\n",
            "Requirement already satisfied: pyyaml in /usr/local/lib/python3.8/dist-packages (from transformers<=4.8.1,>=4.8.1->kobert==0.2.3) (6.0)\n",
            "Requirement already satisfied: regex!=2019.12.17 in /usr/local/lib/python3.8/dist-packages (from transformers<=4.8.1,>=4.8.1->kobert==0.2.3) (2022.6.2)\n",
            "Requirement already satisfied: sacremoses in /usr/local/lib/python3.8/dist-packages (from transformers<=4.8.1,>=4.8.1->kobert==0.2.3) (0.0.53)\n",
            "Requirement already satisfied: huggingface-hub==0.0.12 in /usr/local/lib/python3.8/dist-packages (from transformers<=4.8.1,>=4.8.1->kobert==0.2.3) (0.0.12)\n",
            "Requirement already satisfied: filelock in /usr/local/lib/python3.8/dist-packages (from transformers<=4.8.1,>=4.8.1->kobert==0.2.3) (3.8.0)\n",
            "Requirement already satisfied: tqdm>=4.27 in /usr/local/lib/python3.8/dist-packages (from transformers<=4.8.1,>=4.8.1->kobert==0.2.3) (4.64.1)\n",
            "Collecting tokenizers<0.11,>=0.10.1\n",
            "  Using cached tokenizers-0.10.3-cp38-cp38-manylinux_2_5_x86_64.manylinux1_x86_64.manylinux_2_12_x86_64.manylinux2010_x86_64.whl (3.3 MB)\n",
            "Requirement already satisfied: pyparsing!=3.0.5,>=2.0.2 in /usr/local/lib/python3.8/dist-packages (from packaging->gluonnlp<=0.10.0,>=0.6.0->kobert==0.2.3) (3.0.9)\n",
            "Requirement already satisfied: joblib in /usr/local/lib/python3.8/dist-packages (from sacremoses->transformers<=4.8.1,>=4.8.1->kobert==0.2.3) (1.2.0)\n",
            "Requirement already satisfied: click in /usr/local/lib/python3.8/dist-packages (from sacremoses->transformers<=4.8.1,>=4.8.1->kobert==0.2.3) (7.1.2)\n",
            "Installing collected packages: tokenizers, transformers\n",
            "  Attempting uninstall: tokenizers\n",
            "    Found existing installation: tokenizers 0.8.1rc1\n",
            "    Uninstalling tokenizers-0.8.1rc1:\n",
            "      Successfully uninstalled tokenizers-0.8.1rc1\n",
            "  Attempting uninstall: transformers\n",
            "    Found existing installation: transformers 3.0.2\n",
            "    Uninstalling transformers-3.0.2:\n",
            "      Successfully uninstalled transformers-3.0.2\n",
            "Successfully installed tokenizers-0.10.3 transformers-4.8.1\n"
          ]
        }
      ]
    },
    {
      "cell_type": "code",
      "source": [
        "# torch\n",
        "import torch\n",
        "from torch import nn\n",
        "import torch.nn.functional as F\n",
        "import torch.optim as optim\n",
        "from torch.utils.data import Dataset, DataLoader\n",
        "import gluonnlp as nlp\n",
        "import numpy as np\n",
        "from tqdm import tqdm, tqdm_notebook\n",
        "\n",
        "#kobert\n",
        "from kobert.utils import get_tokenizer\n",
        "from kobert.pytorch_kobert import get_pytorch_kobert_model\n",
        "\n",
        "#GPU 사용\n",
        "device = torch.device(\"cuda:0\")"
      ],
      "metadata": {
        "id": "gUmYPHoIHZ1T"
      },
      "execution_count": null,
      "outputs": []
    },
    {
      "cell_type": "code",
      "source": [
        "bertmodel, vocab = get_pytorch_kobert_model()"
      ],
      "metadata": {
        "colab": {
          "base_uri": "https://localhost:8080/"
        },
        "id": "EP1evK6hHbMP",
        "outputId": "b5565b38-f4a7-4bfe-8a67-2392656fa1d4"
      },
      "execution_count": null,
      "outputs": [
        {
          "output_type": "stream",
          "name": "stdout",
          "text": [
            "using cached model. /content/.cache/kobert_v1.zip\n",
            "using cached model. /content/.cache/kobert_news_wiki_ko_cased-1087f8699e.spiece\n"
          ]
        }
      ]
    },
    {
      "cell_type": "code",
      "source": [
        "# KoBERT에 입력될 데이터셋 정리\n",
        "class BERTDataset(Dataset):\n",
        "    def __init__(self, dataset, sent_idx, label_idx, bert_tokenizer, max_len,\n",
        "                 pad, pair):\n",
        "        transform = nlp.data.BERTSentenceTransform(\n",
        "            bert_tokenizer, max_seq_length=max_len, pad=pad, pair=pair)\n",
        "\n",
        "        self.sentences = [transform([i[sent_idx]]) for i in dataset]\n",
        "        self.labels = [np.int32(i[label_idx]) for i in dataset]\n",
        "\n",
        "    def __getitem__(self, i):\n",
        "        return (self.sentences[i] + (self.labels[i], ))\n",
        "\n",
        "    def __len__(self):\n",
        "        return (len(self.labels)) "
      ],
      "metadata": {
        "id": "v348RzITHcwe"
      },
      "execution_count": null,
      "outputs": []
    },
    {
      "cell_type": "code",
      "source": [
        "# 모델 정의\n",
        "class BERTClassifier(nn.Module): ## 클래스를 상속\n",
        "    def __init__(self,\n",
        "                 bert,\n",
        "                 hidden_size = 768,\n",
        "                 num_classes=2,   ##클래스 수 조정##\n",
        "                 dr_rate=None,\n",
        "                 params=None):\n",
        "        super(BERTClassifier, self).__init__()\n",
        "        self.bert = bert\n",
        "        self.dr_rate = dr_rate\n",
        "                 \n",
        "        self.classifier = nn.Linear(hidden_size , num_classes)\n",
        "        if dr_rate:\n",
        "            self.dropout = nn.Dropout(p=dr_rate)\n",
        "    \n",
        "    def gen_attention_mask(self, token_ids, valid_length):\n",
        "        attention_mask = torch.zeros_like(token_ids)\n",
        "        for i, v in enumerate(valid_length):\n",
        "            attention_mask[i][:v] = 1\n",
        "        return attention_mask.float()\n",
        "\n",
        "    def forward(self, token_ids, valid_length, segment_ids):\n",
        "        attention_mask = self.gen_attention_mask(token_ids, valid_length)\n",
        "        \n",
        "        _, pooler = self.bert(input_ids = token_ids, token_type_ids = segment_ids.long(), attention_mask = attention_mask.float().to(token_ids.device))\n",
        "        if self.dr_rate:\n",
        "            out = self.dropout(pooler)\n",
        "        return self.classifier(out)\n"
      ],
      "metadata": {
        "id": "y__dW8ZQHfQa"
      },
      "execution_count": null,
      "outputs": []
    },
    {
      "cell_type": "code",
      "source": [
        "# Setting parameters\n",
        "max_len = 64\n",
        "batch_size = 32\n",
        "warmup_ratio = 0.1\n",
        "num_epochs = 20\n",
        "max_grad_norm = 1\n",
        "log_interval = 100\n",
        "learning_rate =  5e-5"
      ],
      "metadata": {
        "id": "_Qzj4SfuHg5M"
      },
      "execution_count": null,
      "outputs": []
    },
    {
      "cell_type": "code",
      "source": [
        "## 학습 모델 로드\n",
        "PATH = '/content/drive/MyDrive/Colab Notebooks'\n",
        "model = torch.load(PATH + 'KoBERT_담화.pt')  # 전체 모델을 통째로 불러옴, 클래스 선언 필수\n",
        "model.load_state_dict(torch.load(PATH + 'model_state_dict.pt'))  # state_dict를 불러 온 후, 모델에 저장\n"
      ],
      "metadata": {
        "colab": {
          "base_uri": "https://localhost:8080/"
        },
        "id": "DX_sbFovHitF",
        "outputId": "0abd58f1-ef36-4bf6-e32c-eb5f2b26e9f7"
      },
      "execution_count": null,
      "outputs": [
        {
          "output_type": "execute_result",
          "data": {
            "text/plain": [
              "<All keys matched successfully>"
            ]
          },
          "metadata": {},
          "execution_count": 10
        }
      ]
    },
    {
      "cell_type": "code",
      "source": [
        "#토큰화\n",
        "tokenizer = get_tokenizer()\n",
        "tok = nlp.data.BERTSPTokenizer(tokenizer, vocab, lower=False)\n",
        "\n",
        "def new_softmax(a) : \n",
        "    c = np.max(a) # 최댓값\n",
        "    exp_a = np.exp(a-c) # 각각의 원소에 최댓값을 뺀 값에 exp를 취한다. (이를 통해 overflow 방지)\n",
        "    sum_exp_a = np.sum(exp_a)\n",
        "    y = (exp_a / sum_exp_a) * 100\n",
        "    return np.round(y, 3)\n"
      ],
      "metadata": {
        "colab": {
          "base_uri": "https://localhost:8080/"
        },
        "id": "-TJfvQBpHkIK",
        "outputId": "acce72ef-418a-4401-8be3-1b1afd49121c"
      },
      "execution_count": null,
      "outputs": [
        {
          "output_type": "stream",
          "name": "stdout",
          "text": [
            "using cached model. /content/.cache/kobert_news_wiki_ko_cased-1087f8699e.spiece\n"
          ]
        }
      ]
    },
    {
      "cell_type": "code",
      "source": [
        "def predict(predict_sentence):\n",
        "\n",
        "    data = [predict_sentence, '0']\n",
        "    dataset_another = [data]\n",
        "\n",
        "    another_test = BERTDataset(dataset_another, 0, 1, tok, max_len, True, False)\n",
        "    test_dataloader = torch.utils.data.DataLoader(another_test, batch_size=batch_size, num_workers=5)\n",
        "    \n",
        "    model.eval()\n",
        "\n",
        "    for batch_id, (token_ids, valid_length, segment_ids, label) in enumerate(test_dataloader):\n",
        "        token_ids = token_ids.long().to(device)\n",
        "        segment_ids = segment_ids.long().to(device)\n",
        "\n",
        "        valid_length= valid_length\n",
        "        label = label.long().to(device)\n",
        "\n",
        "        out = model(token_ids, valid_length, segment_ids)\n",
        "\n",
        "        test_eval=[]\n",
        "        for i in out:\n",
        "            logits=i\n",
        "            logits = logits.detach().cpu().numpy()\n",
        "            min_v = min(logits)\n",
        "            total = 0\n",
        "            probability = []\n",
        "            logits = np.round(new_softmax(logits), 3).tolist()\n",
        "            for logit in logits:\n",
        "                print(logit)\n",
        "                probability.append(np.round(logit, 3))\n",
        "\n",
        "            if np.argmax(logits) == 0:  emotion = \"0\"\n",
        "            elif np.argmax(logits) == 1: emotion = \"1\"\n",
        "\n",
        "            probability.append(emotion)\n",
        "            print(probability)\n",
        "    return probability"
      ],
      "metadata": {
        "id": "zMPDcN2-HmGH"
      },
      "execution_count": null,
      "outputs": []
    },
    {
      "cell_type": "code",
      "source": [
        "import pandas as pd\n",
        "data = pd.read_csv('test_data.csv', encoding='utf-8')\n",
        "data"
      ],
      "metadata": {
        "colab": {
          "base_uri": "https://localhost:8080/",
          "height": 360
        },
        "id": "IJYQOvlbOs_o",
        "outputId": "83c27ba4-a0c6-488a-e2fa-5a91f3159d4d"
      },
      "execution_count": null,
      "outputs": [
        {
          "output_type": "error",
          "ename": "FileNotFoundError",
          "evalue": "ignored",
          "traceback": [
            "\u001b[0;31m---------------------------------------------------------------------------\u001b[0m",
            "\u001b[0;31mFileNotFoundError\u001b[0m                         Traceback (most recent call last)",
            "\u001b[0;32m<ipython-input-1-0d69932276b5>\u001b[0m in \u001b[0;36m<module>\u001b[0;34m\u001b[0m\n\u001b[1;32m      1\u001b[0m \u001b[0;32mimport\u001b[0m \u001b[0mpandas\u001b[0m \u001b[0;32mas\u001b[0m \u001b[0mpd\u001b[0m\u001b[0;34m\u001b[0m\u001b[0;34m\u001b[0m\u001b[0m\n\u001b[0;32m----> 2\u001b[0;31m \u001b[0mdata\u001b[0m \u001b[0;34m=\u001b[0m \u001b[0mpd\u001b[0m\u001b[0;34m.\u001b[0m\u001b[0mread_csv\u001b[0m\u001b[0;34m(\u001b[0m\u001b[0;34m'test_data.csv'\u001b[0m\u001b[0;34m,\u001b[0m \u001b[0mencoding\u001b[0m\u001b[0;34m=\u001b[0m\u001b[0;34m'utf-8'\u001b[0m\u001b[0;34m)\u001b[0m\u001b[0;34m\u001b[0m\u001b[0;34m\u001b[0m\u001b[0m\n\u001b[0m\u001b[1;32m      3\u001b[0m \u001b[0mdata\u001b[0m\u001b[0;34m\u001b[0m\u001b[0;34m\u001b[0m\u001b[0m\n",
            "\u001b[0;32m/usr/local/lib/python3.8/dist-packages/pandas/util/_decorators.py\u001b[0m in \u001b[0;36mwrapper\u001b[0;34m(*args, **kwargs)\u001b[0m\n\u001b[1;32m    309\u001b[0m                     \u001b[0mstacklevel\u001b[0m\u001b[0;34m=\u001b[0m\u001b[0mstacklevel\u001b[0m\u001b[0;34m,\u001b[0m\u001b[0;34m\u001b[0m\u001b[0;34m\u001b[0m\u001b[0m\n\u001b[1;32m    310\u001b[0m                 )\n\u001b[0;32m--> 311\u001b[0;31m             \u001b[0;32mreturn\u001b[0m \u001b[0mfunc\u001b[0m\u001b[0;34m(\u001b[0m\u001b[0;34m*\u001b[0m\u001b[0margs\u001b[0m\u001b[0;34m,\u001b[0m \u001b[0;34m**\u001b[0m\u001b[0mkwargs\u001b[0m\u001b[0;34m)\u001b[0m\u001b[0;34m\u001b[0m\u001b[0;34m\u001b[0m\u001b[0m\n\u001b[0m\u001b[1;32m    312\u001b[0m \u001b[0;34m\u001b[0m\u001b[0m\n\u001b[1;32m    313\u001b[0m         \u001b[0;32mreturn\u001b[0m \u001b[0mwrapper\u001b[0m\u001b[0;34m\u001b[0m\u001b[0;34m\u001b[0m\u001b[0m\n",
            "\u001b[0;32m/usr/local/lib/python3.8/dist-packages/pandas/io/parsers/readers.py\u001b[0m in \u001b[0;36mread_csv\u001b[0;34m(filepath_or_buffer, sep, delimiter, header, names, index_col, usecols, squeeze, prefix, mangle_dupe_cols, dtype, engine, converters, true_values, false_values, skipinitialspace, skiprows, skipfooter, nrows, na_values, keep_default_na, na_filter, verbose, skip_blank_lines, parse_dates, infer_datetime_format, keep_date_col, date_parser, dayfirst, cache_dates, iterator, chunksize, compression, thousands, decimal, lineterminator, quotechar, quoting, doublequote, escapechar, comment, encoding, encoding_errors, dialect, error_bad_lines, warn_bad_lines, on_bad_lines, delim_whitespace, low_memory, memory_map, float_precision, storage_options)\u001b[0m\n\u001b[1;32m    584\u001b[0m     \u001b[0mkwds\u001b[0m\u001b[0;34m.\u001b[0m\u001b[0mupdate\u001b[0m\u001b[0;34m(\u001b[0m\u001b[0mkwds_defaults\u001b[0m\u001b[0;34m)\u001b[0m\u001b[0;34m\u001b[0m\u001b[0;34m\u001b[0m\u001b[0m\n\u001b[1;32m    585\u001b[0m \u001b[0;34m\u001b[0m\u001b[0m\n\u001b[0;32m--> 586\u001b[0;31m     \u001b[0;32mreturn\u001b[0m \u001b[0m_read\u001b[0m\u001b[0;34m(\u001b[0m\u001b[0mfilepath_or_buffer\u001b[0m\u001b[0;34m,\u001b[0m \u001b[0mkwds\u001b[0m\u001b[0;34m)\u001b[0m\u001b[0;34m\u001b[0m\u001b[0;34m\u001b[0m\u001b[0m\n\u001b[0m\u001b[1;32m    587\u001b[0m \u001b[0;34m\u001b[0m\u001b[0m\n\u001b[1;32m    588\u001b[0m \u001b[0;34m\u001b[0m\u001b[0m\n",
            "\u001b[0;32m/usr/local/lib/python3.8/dist-packages/pandas/io/parsers/readers.py\u001b[0m in \u001b[0;36m_read\u001b[0;34m(filepath_or_buffer, kwds)\u001b[0m\n\u001b[1;32m    480\u001b[0m \u001b[0;34m\u001b[0m\u001b[0m\n\u001b[1;32m    481\u001b[0m     \u001b[0;31m# Create the parser.\u001b[0m\u001b[0;34m\u001b[0m\u001b[0;34m\u001b[0m\u001b[0;34m\u001b[0m\u001b[0m\n\u001b[0;32m--> 482\u001b[0;31m     \u001b[0mparser\u001b[0m \u001b[0;34m=\u001b[0m \u001b[0mTextFileReader\u001b[0m\u001b[0;34m(\u001b[0m\u001b[0mfilepath_or_buffer\u001b[0m\u001b[0;34m,\u001b[0m \u001b[0;34m**\u001b[0m\u001b[0mkwds\u001b[0m\u001b[0;34m)\u001b[0m\u001b[0;34m\u001b[0m\u001b[0;34m\u001b[0m\u001b[0m\n\u001b[0m\u001b[1;32m    483\u001b[0m \u001b[0;34m\u001b[0m\u001b[0m\n\u001b[1;32m    484\u001b[0m     \u001b[0;32mif\u001b[0m \u001b[0mchunksize\u001b[0m \u001b[0;32mor\u001b[0m \u001b[0miterator\u001b[0m\u001b[0;34m:\u001b[0m\u001b[0;34m\u001b[0m\u001b[0;34m\u001b[0m\u001b[0m\n",
            "\u001b[0;32m/usr/local/lib/python3.8/dist-packages/pandas/io/parsers/readers.py\u001b[0m in \u001b[0;36m__init__\u001b[0;34m(self, f, engine, **kwds)\u001b[0m\n\u001b[1;32m    809\u001b[0m             \u001b[0mself\u001b[0m\u001b[0;34m.\u001b[0m\u001b[0moptions\u001b[0m\u001b[0;34m[\u001b[0m\u001b[0;34m\"has_index_names\"\u001b[0m\u001b[0;34m]\u001b[0m \u001b[0;34m=\u001b[0m \u001b[0mkwds\u001b[0m\u001b[0;34m[\u001b[0m\u001b[0;34m\"has_index_names\"\u001b[0m\u001b[0;34m]\u001b[0m\u001b[0;34m\u001b[0m\u001b[0;34m\u001b[0m\u001b[0m\n\u001b[1;32m    810\u001b[0m \u001b[0;34m\u001b[0m\u001b[0m\n\u001b[0;32m--> 811\u001b[0;31m         \u001b[0mself\u001b[0m\u001b[0;34m.\u001b[0m\u001b[0m_engine\u001b[0m \u001b[0;34m=\u001b[0m \u001b[0mself\u001b[0m\u001b[0;34m.\u001b[0m\u001b[0m_make_engine\u001b[0m\u001b[0;34m(\u001b[0m\u001b[0mself\u001b[0m\u001b[0;34m.\u001b[0m\u001b[0mengine\u001b[0m\u001b[0;34m)\u001b[0m\u001b[0;34m\u001b[0m\u001b[0;34m\u001b[0m\u001b[0m\n\u001b[0m\u001b[1;32m    812\u001b[0m \u001b[0;34m\u001b[0m\u001b[0m\n\u001b[1;32m    813\u001b[0m     \u001b[0;32mdef\u001b[0m \u001b[0mclose\u001b[0m\u001b[0;34m(\u001b[0m\u001b[0mself\u001b[0m\u001b[0;34m)\u001b[0m\u001b[0;34m:\u001b[0m\u001b[0;34m\u001b[0m\u001b[0;34m\u001b[0m\u001b[0m\n",
            "\u001b[0;32m/usr/local/lib/python3.8/dist-packages/pandas/io/parsers/readers.py\u001b[0m in \u001b[0;36m_make_engine\u001b[0;34m(self, engine)\u001b[0m\n\u001b[1;32m   1038\u001b[0m             )\n\u001b[1;32m   1039\u001b[0m         \u001b[0;31m# error: Too many arguments for \"ParserBase\"\u001b[0m\u001b[0;34m\u001b[0m\u001b[0;34m\u001b[0m\u001b[0;34m\u001b[0m\u001b[0m\n\u001b[0;32m-> 1040\u001b[0;31m         \u001b[0;32mreturn\u001b[0m \u001b[0mmapping\u001b[0m\u001b[0;34m[\u001b[0m\u001b[0mengine\u001b[0m\u001b[0;34m]\u001b[0m\u001b[0;34m(\u001b[0m\u001b[0mself\u001b[0m\u001b[0;34m.\u001b[0m\u001b[0mf\u001b[0m\u001b[0;34m,\u001b[0m \u001b[0;34m**\u001b[0m\u001b[0mself\u001b[0m\u001b[0;34m.\u001b[0m\u001b[0moptions\u001b[0m\u001b[0;34m)\u001b[0m  \u001b[0;31m# type: ignore[call-arg]\u001b[0m\u001b[0;34m\u001b[0m\u001b[0;34m\u001b[0m\u001b[0m\n\u001b[0m\u001b[1;32m   1041\u001b[0m \u001b[0;34m\u001b[0m\u001b[0m\n\u001b[1;32m   1042\u001b[0m     \u001b[0;32mdef\u001b[0m \u001b[0m_failover_to_python\u001b[0m\u001b[0;34m(\u001b[0m\u001b[0mself\u001b[0m\u001b[0;34m)\u001b[0m\u001b[0;34m:\u001b[0m\u001b[0;34m\u001b[0m\u001b[0;34m\u001b[0m\u001b[0m\n",
            "\u001b[0;32m/usr/local/lib/python3.8/dist-packages/pandas/io/parsers/c_parser_wrapper.py\u001b[0m in \u001b[0;36m__init__\u001b[0;34m(self, src, **kwds)\u001b[0m\n\u001b[1;32m     49\u001b[0m \u001b[0;34m\u001b[0m\u001b[0m\n\u001b[1;32m     50\u001b[0m         \u001b[0;31m# open handles\u001b[0m\u001b[0;34m\u001b[0m\u001b[0;34m\u001b[0m\u001b[0;34m\u001b[0m\u001b[0m\n\u001b[0;32m---> 51\u001b[0;31m         \u001b[0mself\u001b[0m\u001b[0;34m.\u001b[0m\u001b[0m_open_handles\u001b[0m\u001b[0;34m(\u001b[0m\u001b[0msrc\u001b[0m\u001b[0;34m,\u001b[0m \u001b[0mkwds\u001b[0m\u001b[0;34m)\u001b[0m\u001b[0;34m\u001b[0m\u001b[0;34m\u001b[0m\u001b[0m\n\u001b[0m\u001b[1;32m     52\u001b[0m         \u001b[0;32massert\u001b[0m \u001b[0mself\u001b[0m\u001b[0;34m.\u001b[0m\u001b[0mhandles\u001b[0m \u001b[0;32mis\u001b[0m \u001b[0;32mnot\u001b[0m \u001b[0;32mNone\u001b[0m\u001b[0;34m\u001b[0m\u001b[0;34m\u001b[0m\u001b[0m\n\u001b[1;32m     53\u001b[0m \u001b[0;34m\u001b[0m\u001b[0m\n",
            "\u001b[0;32m/usr/local/lib/python3.8/dist-packages/pandas/io/parsers/base_parser.py\u001b[0m in \u001b[0;36m_open_handles\u001b[0;34m(self, src, kwds)\u001b[0m\n\u001b[1;32m    220\u001b[0m         \u001b[0mLet\u001b[0m \u001b[0mthe\u001b[0m \u001b[0mreaders\u001b[0m \u001b[0mopen\u001b[0m \u001b[0mIOHandles\u001b[0m \u001b[0mafter\u001b[0m \u001b[0mthey\u001b[0m \u001b[0mare\u001b[0m \u001b[0mdone\u001b[0m \u001b[0;32mwith\u001b[0m \u001b[0mtheir\u001b[0m \u001b[0mpotential\u001b[0m \u001b[0mraises\u001b[0m\u001b[0;34m.\u001b[0m\u001b[0;34m\u001b[0m\u001b[0;34m\u001b[0m\u001b[0m\n\u001b[1;32m    221\u001b[0m         \"\"\"\n\u001b[0;32m--> 222\u001b[0;31m         self.handles = get_handle(\n\u001b[0m\u001b[1;32m    223\u001b[0m             \u001b[0msrc\u001b[0m\u001b[0;34m,\u001b[0m\u001b[0;34m\u001b[0m\u001b[0;34m\u001b[0m\u001b[0m\n\u001b[1;32m    224\u001b[0m             \u001b[0;34m\"r\"\u001b[0m\u001b[0;34m,\u001b[0m\u001b[0;34m\u001b[0m\u001b[0;34m\u001b[0m\u001b[0m\n",
            "\u001b[0;32m/usr/local/lib/python3.8/dist-packages/pandas/io/common.py\u001b[0m in \u001b[0;36mget_handle\u001b[0;34m(path_or_buf, mode, encoding, compression, memory_map, is_text, errors, storage_options)\u001b[0m\n\u001b[1;32m    700\u001b[0m         \u001b[0;32mif\u001b[0m \u001b[0mioargs\u001b[0m\u001b[0;34m.\u001b[0m\u001b[0mencoding\u001b[0m \u001b[0;32mand\u001b[0m \u001b[0;34m\"b\"\u001b[0m \u001b[0;32mnot\u001b[0m \u001b[0;32min\u001b[0m \u001b[0mioargs\u001b[0m\u001b[0;34m.\u001b[0m\u001b[0mmode\u001b[0m\u001b[0;34m:\u001b[0m\u001b[0;34m\u001b[0m\u001b[0;34m\u001b[0m\u001b[0m\n\u001b[1;32m    701\u001b[0m             \u001b[0;31m# Encoding\u001b[0m\u001b[0;34m\u001b[0m\u001b[0;34m\u001b[0m\u001b[0;34m\u001b[0m\u001b[0m\n\u001b[0;32m--> 702\u001b[0;31m             handle = open(\n\u001b[0m\u001b[1;32m    703\u001b[0m                 \u001b[0mhandle\u001b[0m\u001b[0;34m,\u001b[0m\u001b[0;34m\u001b[0m\u001b[0;34m\u001b[0m\u001b[0m\n\u001b[1;32m    704\u001b[0m                 \u001b[0mioargs\u001b[0m\u001b[0;34m.\u001b[0m\u001b[0mmode\u001b[0m\u001b[0;34m,\u001b[0m\u001b[0;34m\u001b[0m\u001b[0;34m\u001b[0m\u001b[0m\n",
            "\u001b[0;31mFileNotFoundError\u001b[0m: [Errno 2] No such file or directory: 'test_data.csv'"
          ]
        }
      ]
    },
    {
      "cell_type": "code",
      "source": [
        "for i in range(0, data.shape[0]):\n",
        "    row = data.iloc[i]\n",
        "    idx = data.index[i]\n",
        "    print(f'행 위치 : {i} 번째')\n",
        "    print('{}', row['굳 ㅋ'])"
      ],
      "metadata": {
        "colab": {
          "base_uri": "https://localhost:8080/"
        },
        "id": "54TBCOTCQhxD",
        "outputId": "d2c45b59-35c3-4102-e0d1-886b557bd5be"
      },
      "execution_count": null,
      "outputs": [
        {
          "output_type": "stream",
          "name": "stdout",
          "text": [
            "행 위치 : 0 번째\n",
            "{} GDNTOPCLASSINTHECLUB\n",
            "행 위치 : 1 번째\n",
            "{} 뭐야 이 평점들은.... 나쁘진 않지만 10점 짜리는 더더욱 아니잖아\n",
            "행 위치 : 2 번째\n",
            "{} 지루하지는 않은데 완전 막장임... 돈주고 보기에는....\n",
            "행 위치 : 3 번째\n",
            "{} 3D만 아니었어도 별 다섯 개 줬을텐데.. 왜 3D로 나와서 제 심기를 불편하게 하죠??\n"
          ]
        }
      ]
    },
    {
      "cell_type": "code",
      "source": [
        "df = [[0.0,0.0,0.0]]\n",
        "for i in range(0, data.shape[0]):\n",
        "    row = data.iloc[i]\n",
        "    idx = data.index[i]\n",
        "    sentence = row['review']\n",
        "    result = predict(sentence)\n",
        "    df.append(result)"
      ],
      "metadata": {
        "colab": {
          "base_uri": "https://localhost:8080/"
        },
        "id": "TV4-q5AiMeaI",
        "outputId": "72c84d05-921d-4424-ed90-e170847ecd11"
      },
      "execution_count": null,
      "outputs": [
        {
          "output_type": "stream",
          "name": "stderr",
          "text": [
            "/usr/local/lib/python3.8/dist-packages/torch/utils/data/dataloader.py:478: UserWarning: This DataLoader will create 5 worker processes in total. Our suggested max number of worker in current system is 2, which is smaller than what this DataLoader is going to create. Please be aware that excessive worker creation might get DataLoader running slow or even freeze, lower the worker number to avoid potential slowness/freeze if necessary.\n",
            "  warnings.warn(_create_warning_msg(\n"
          ]
        },
        {
          "output_type": "stream",
          "name": "stdout",
          "text": [
            "35.744998931884766\n",
            "64.25499725341797\n",
            "[35.745, 64.255, '1']\n",
            "49.04399871826172\n",
            "50.95600128173828\n",
            "[49.044, 50.956, '1']\n",
            "92.45600128173828\n",
            "7.544000148773193\n",
            "[92.456, 7.544, '0']\n",
            "77.16699981689453\n",
            "22.83300018310547\n",
            "[77.167, 22.833, '0']\n",
            "90.73100280761719\n",
            "9.269000053405762\n",
            "[90.731, 9.269, '0']\n",
            "57.702999114990234\n",
            "42.297000885009766\n",
            "[57.703, 42.297, '0']\n",
            "66.4489974975586\n",
            "33.55099868774414\n",
            "[66.449, 33.551, '0']\n",
            "62.29600143432617\n",
            "37.70399856567383\n",
            "[62.296, 37.704, '0']\n",
            "84.03800201416016\n",
            "15.961999893188477\n",
            "[84.038, 15.962, '0']\n",
            "81.36900329589844\n",
            "18.631000518798828\n",
            "[81.369, 18.631, '0']\n",
            "43.297000885009766\n",
            "56.702999114990234\n",
            "[43.297, 56.703, '1']\n",
            "45.62799835205078\n",
            "54.37200164794922\n",
            "[45.628, 54.372, '1']\n",
            "72.66999816894531\n",
            "27.329999923706055\n",
            "[72.67, 27.33, '0']\n",
            "65.64600372314453\n",
            "34.354000091552734\n",
            "[65.646, 34.354, '0']\n",
            "88.65799713134766\n",
            "11.342000007629395\n",
            "[88.658, 11.342, '0']\n",
            "68.75800323486328\n",
            "31.242000579833984\n",
            "[68.758, 31.242, '0']\n",
            "18.524999618530273\n",
            "81.4749984741211\n",
            "[18.525, 81.475, '1']\n",
            "38.242000579833984\n",
            "61.757999420166016\n",
            "[38.242, 61.758, '1']\n",
            "59.93199920654297\n",
            "40.06800079345703\n",
            "[59.932, 40.068, '0']\n",
            "85.93399810791016\n",
            "14.065999984741211\n",
            "[85.934, 14.066, '0']\n",
            "83.2239990234375\n",
            "16.775999069213867\n",
            "[83.224, 16.776, '0']\n",
            "35.430999755859375\n",
            "64.56900024414062\n",
            "[35.431, 64.569, '1']\n",
            "13.993000030517578\n",
            "86.00700378417969\n",
            "[13.993, 86.007, '1']\n",
            "67.3030014038086\n",
            "32.696998596191406\n",
            "[67.303, 32.697, '0']\n",
            "67.87200164794922\n",
            "32.12799835205078\n",
            "[67.872, 32.128, '0']\n",
            "68.99099731445312\n",
            "31.009000778198242\n",
            "[68.991, 31.009, '0']\n",
            "80.41100311279297\n",
            "19.589000701904297\n",
            "[80.411, 19.589, '0']\n",
            "84.0780029296875\n",
            "15.92199993133545\n",
            "[84.078, 15.922, '0']\n",
            "22.659000396728516\n",
            "77.34100341796875\n",
            "[22.659, 77.341, '1']\n",
            "55.17100143432617\n",
            "44.82899856567383\n",
            "[55.171, 44.829, '0']\n",
            "51.3650016784668\n",
            "48.6349983215332\n",
            "[51.365, 48.635, '0']\n",
            "94.28399658203125\n",
            "5.716000080108643\n",
            "[94.284, 5.716, '0']\n",
            "50.56800079345703\n",
            "49.43199920654297\n",
            "[50.568, 49.432, '0']\n",
            "83.48799896240234\n",
            "16.511999130249023\n",
            "[83.488, 16.512, '0']\n",
            "84.58599853515625\n",
            "15.413999557495117\n",
            "[84.586, 15.414, '0']\n",
            "64.99299621582031\n",
            "35.00699996948242\n",
            "[64.993, 35.007, '0']\n",
            "85.40499877929688\n",
            "14.595000267028809\n",
            "[85.405, 14.595, '0']\n",
            "47.77399826049805\n",
            "52.22600173950195\n",
            "[47.774, 52.226, '1']\n",
            "86.61199951171875\n",
            "13.387999534606934\n",
            "[86.612, 13.388, '0']\n",
            "29.660999298095703\n",
            "70.33899688720703\n",
            "[29.661, 70.339, '1']\n",
            "85.33899688720703\n",
            "14.66100025177002\n",
            "[85.339, 14.661, '0']\n",
            "94.47100067138672\n",
            "5.5289998054504395\n",
            "[94.471, 5.529, '0']\n",
            "91.7239990234375\n",
            "8.276000022888184\n",
            "[91.724, 8.276, '0']\n",
            "69.99600219726562\n",
            "30.003999710083008\n",
            "[69.996, 30.004, '0']\n",
            "54.14699935913086\n",
            "45.85300064086914\n",
            "[54.147, 45.853, '0']\n",
            "94.99500274658203\n",
            "5.005000114440918\n",
            "[94.995, 5.005, '0']\n",
            "58.564998626708984\n",
            "41.435001373291016\n",
            "[58.565, 41.435, '0']\n",
            "96.72699737548828\n",
            "3.2730000019073486\n",
            "[96.727, 3.273, '0']\n",
            "13.03499984741211\n",
            "86.96499633789062\n",
            "[13.035, 86.965, '1']\n",
            "62.37099838256836\n",
            "37.62900161743164\n",
            "[62.371, 37.629, '0']\n",
            "33.54100036621094\n",
            "66.45899963378906\n",
            "[33.541, 66.459, '1']\n",
            "68.83799743652344\n",
            "31.16200065612793\n",
            "[68.838, 31.162, '0']\n",
            "84.9990005493164\n",
            "15.00100040435791\n",
            "[84.999, 15.001, '0']\n",
            "70.18299865722656\n",
            "29.816999435424805\n",
            "[70.183, 29.817, '0']\n",
            "50.08100128173828\n",
            "49.91899871826172\n",
            "[50.081, 49.919, '0']\n",
            "95.73699951171875\n",
            "4.263000011444092\n",
            "[95.737, 4.263, '0']\n",
            "53.66699981689453\n",
            "46.33300018310547\n",
            "[53.667, 46.333, '0']\n",
            "67.08999633789062\n",
            "32.90999984741211\n",
            "[67.09, 32.91, '0']\n",
            "16.124000549316406\n",
            "83.8759994506836\n",
            "[16.124, 83.876, '1']\n",
            "52.14099884033203\n",
            "47.86000061035156\n",
            "[52.141, 47.86, '0']\n",
            "49.44200134277344\n",
            "50.55799865722656\n",
            "[49.442, 50.558, '1']\n",
            "95.28600311279297\n",
            "4.714000225067139\n",
            "[95.286, 4.714, '0']\n",
            "60.75899887084961\n",
            "39.24100112915039\n",
            "[60.759, 39.241, '0']\n",
            "87.7249984741211\n",
            "12.274999618530273\n",
            "[87.725, 12.275, '0']\n",
            "73.76000213623047\n",
            "26.239999771118164\n",
            "[73.76, 26.24, '0']\n",
            "91.47000122070312\n",
            "8.529999732971191\n",
            "[91.47, 8.53, '0']\n",
            "50.073001861572266\n",
            "49.926998138427734\n",
            "[50.073, 49.927, '0']\n",
            "48.013999938964844\n",
            "51.986000061035156\n",
            "[48.014, 51.986, '1']\n",
            "56.1870002746582\n",
            "43.8129997253418\n",
            "[56.187, 43.813, '0']\n",
            "63.8390007019043\n",
            "36.1609992980957\n",
            "[63.839, 36.161, '0']\n",
            "77.83399963378906\n",
            "22.166000366210938\n",
            "[77.834, 22.166, '0']\n",
            "65.98200225830078\n",
            "34.018001556396484\n",
            "[65.982, 34.018, '0']\n",
            "93.08999633789062\n",
            "6.909999847412109\n",
            "[93.09, 6.91, '0']\n",
            "17.0\n",
            "83.0\n",
            "[17.0, 83.0, '1']\n",
            "45.14899826049805\n",
            "54.85100173950195\n",
            "[45.149, 54.851, '1']\n",
            "64.98500061035156\n",
            "35.01499938964844\n",
            "[64.985, 35.015, '0']\n",
            "50.01499938964844\n",
            "49.98500061035156\n",
            "[50.015, 49.985, '0']\n",
            "89.6709976196289\n",
            "10.329000473022461\n",
            "[89.671, 10.329, '0']\n",
            "52.24399948120117\n",
            "47.75600051879883\n",
            "[52.244, 47.756, '0']\n",
            "75.25599670410156\n",
            "24.743999481201172\n",
            "[75.256, 24.744, '0']\n",
            "66.2750015258789\n",
            "33.724998474121094\n",
            "[66.275, 33.725, '0']\n",
            "39.76300048828125\n",
            "60.23699951171875\n",
            "[39.763, 60.237, '1']\n",
            "47.60900115966797\n",
            "52.39099884033203\n",
            "[47.609, 52.391, '1']\n",
            "24.315000534057617\n",
            "75.68499755859375\n",
            "[24.315, 75.685, '1']\n",
            "85.03600311279297\n",
            "14.96399974822998\n",
            "[85.036, 14.964, '0']\n",
            "14.545000076293945\n",
            "85.45500183105469\n",
            "[14.545, 85.455, '1']\n",
            "35.64099884033203\n",
            "64.35900115966797\n",
            "[35.641, 64.359, '1']\n",
            "66.76599884033203\n",
            "33.23400115966797\n",
            "[66.766, 33.234, '0']\n",
            "37.742000579833984\n",
            "62.257999420166016\n",
            "[37.742, 62.258, '1']\n",
            "83.66100311279297\n",
            "16.339000701904297\n",
            "[83.661, 16.339, '0']\n",
            "88.16200256347656\n",
            "11.838000297546387\n",
            "[88.162, 11.838, '0']\n",
            "93.23400115966797\n",
            "6.765999794006348\n",
            "[93.234, 6.766, '0']\n",
            "55.07400131225586\n",
            "44.92599868774414\n",
            "[55.074, 44.926, '0']\n",
            "90.9990005493164\n",
            "9.00100040435791\n",
            "[90.999, 9.001, '0']\n",
            "88.0780029296875\n",
            "11.92199993133545\n",
            "[88.078, 11.922, '0']\n",
            "42.77000045776367\n",
            "57.22999954223633\n",
            "[42.77, 57.23, '1']\n",
            "86.66400146484375\n",
            "13.336000442504883\n",
            "[86.664, 13.336, '0']\n",
            "81.17900085449219\n",
            "18.820999145507812\n",
            "[81.179, 18.821, '0']\n",
            "84.38400268554688\n",
            "15.616000175476074\n",
            "[84.384, 15.616, '0']\n"
          ]
        }
      ]
    },
    {
      "cell_type": "code",
      "source": [
        "df"
      ],
      "metadata": {
        "colab": {
          "base_uri": "https://localhost:8080/"
        },
        "id": "U40-PgfgSJv4",
        "outputId": "2ee3238a-5cd5-4c1e-c55b-d45370db5de9"
      },
      "execution_count": null,
      "outputs": [
        {
          "output_type": "execute_result",
          "data": {
            "text/plain": [
              "[[0.0, 0.0, 0.0],\n",
              " [35.745, 64.255, '1'],\n",
              " [49.044, 50.956, '1'],\n",
              " [92.456, 7.544, '0'],\n",
              " [77.167, 22.833, '0'],\n",
              " [90.731, 9.269, '0'],\n",
              " [57.703, 42.297, '0'],\n",
              " [66.449, 33.551, '0'],\n",
              " [62.296, 37.704, '0'],\n",
              " [84.038, 15.962, '0'],\n",
              " [81.369, 18.631, '0'],\n",
              " [43.297, 56.703, '1'],\n",
              " [45.628, 54.372, '1'],\n",
              " [72.67, 27.33, '0'],\n",
              " [65.646, 34.354, '0'],\n",
              " [88.658, 11.342, '0'],\n",
              " [68.758, 31.242, '0'],\n",
              " [18.525, 81.475, '1'],\n",
              " [38.242, 61.758, '1'],\n",
              " [59.932, 40.068, '0'],\n",
              " [85.934, 14.066, '0'],\n",
              " [83.224, 16.776, '0'],\n",
              " [35.431, 64.569, '1'],\n",
              " [13.993, 86.007, '1'],\n",
              " [67.303, 32.697, '0'],\n",
              " [67.872, 32.128, '0'],\n",
              " [68.991, 31.009, '0'],\n",
              " [80.411, 19.589, '0'],\n",
              " [84.078, 15.922, '0'],\n",
              " [22.659, 77.341, '1'],\n",
              " [55.171, 44.829, '0'],\n",
              " [51.365, 48.635, '0'],\n",
              " [94.284, 5.716, '0'],\n",
              " [50.568, 49.432, '0'],\n",
              " [83.488, 16.512, '0'],\n",
              " [84.586, 15.414, '0'],\n",
              " [64.993, 35.007, '0'],\n",
              " [85.405, 14.595, '0'],\n",
              " [47.774, 52.226, '1'],\n",
              " [86.612, 13.388, '0'],\n",
              " [29.661, 70.339, '1'],\n",
              " [85.339, 14.661, '0'],\n",
              " [94.471, 5.529, '0'],\n",
              " [91.724, 8.276, '0'],\n",
              " [69.996, 30.004, '0'],\n",
              " [54.147, 45.853, '0'],\n",
              " [94.995, 5.005, '0'],\n",
              " [58.565, 41.435, '0'],\n",
              " [96.727, 3.273, '0'],\n",
              " [13.035, 86.965, '1'],\n",
              " [62.371, 37.629, '0'],\n",
              " [33.541, 66.459, '1'],\n",
              " [68.838, 31.162, '0'],\n",
              " [84.999, 15.001, '0'],\n",
              " [70.183, 29.817, '0'],\n",
              " [50.081, 49.919, '0'],\n",
              " [95.737, 4.263, '0'],\n",
              " [53.667, 46.333, '0'],\n",
              " [67.09, 32.91, '0'],\n",
              " [16.124, 83.876, '1'],\n",
              " [52.141, 47.86, '0'],\n",
              " [49.442, 50.558, '1'],\n",
              " [95.286, 4.714, '0'],\n",
              " [60.759, 39.241, '0'],\n",
              " [87.725, 12.275, '0'],\n",
              " [73.76, 26.24, '0'],\n",
              " [91.47, 8.53, '0'],\n",
              " [50.073, 49.927, '0'],\n",
              " [48.014, 51.986, '1'],\n",
              " [56.187, 43.813, '0'],\n",
              " [63.839, 36.161, '0'],\n",
              " [77.834, 22.166, '0'],\n",
              " [65.982, 34.018, '0'],\n",
              " [93.09, 6.91, '0'],\n",
              " [17.0, 83.0, '1'],\n",
              " [45.149, 54.851, '1'],\n",
              " [64.985, 35.015, '0'],\n",
              " [50.015, 49.985, '0'],\n",
              " [89.671, 10.329, '0'],\n",
              " [52.244, 47.756, '0'],\n",
              " [75.256, 24.744, '0'],\n",
              " [66.275, 33.725, '0'],\n",
              " [39.763, 60.237, '1'],\n",
              " [47.609, 52.391, '1'],\n",
              " [24.315, 75.685, '1'],\n",
              " [85.036, 14.964, '0'],\n",
              " [14.545, 85.455, '1'],\n",
              " [35.641, 64.359, '1'],\n",
              " [66.766, 33.234, '0'],\n",
              " [37.742, 62.258, '1'],\n",
              " [83.661, 16.339, '0'],\n",
              " [88.162, 11.838, '0'],\n",
              " [93.234, 6.766, '0'],\n",
              " [55.074, 44.926, '0'],\n",
              " [90.999, 9.001, '0'],\n",
              " [88.078, 11.922, '0'],\n",
              " [42.77, 57.23, '1'],\n",
              " [86.664, 13.336, '0'],\n",
              " [81.179, 18.821, '0'],\n",
              " [84.384, 15.616, '0']]"
            ]
          },
          "metadata": {},
          "execution_count": 24
        }
      ]
    },
    {
      "cell_type": "code",
      "source": [
        "df_last=pd.DataFrame(df,columns=['col1','col2','result'])\n",
        "df_last.drop(0, axis=0)\n",
        "df_last = df_last['result']"
      ],
      "metadata": {
        "id": "bO6xTi9Wdja3"
      },
      "execution_count": null,
      "outputs": []
    },
    {
      "cell_type": "code",
      "source": [
        "df_last.to_excel('/content/drive/MyDrive/test.xlsx') #csv파일로 생성"
      ],
      "metadata": {
        "id": "H9NTMx-Hd4y6"
      },
      "execution_count": null,
      "outputs": []
    }
  ]
}